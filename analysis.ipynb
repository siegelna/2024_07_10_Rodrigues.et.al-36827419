{
 "cells": [
  {
   "cell_type": "markdown",
   "metadata": {},
   "source": []
  },
  {
   "cell_type": "code",
   "execution_count": 105,
   "metadata": {
    "vscode": {
     "languageId": "r"
    }
   },
   "outputs": [],
   "source": [
    "suppressPackageStartupMessages({\n",
    "    library(edgeR)\n",
    "    library(dplyr)\n",
    "    library(ggplot2)\n",
    "    library(reshape2)\n",
    "    library(biomaRt)\n",
    "    library(dplyr)\n",
    "    library(stringr)\n",
    "})"
   ]
  },
  {
   "cell_type": "code",
   "execution_count": 39,
   "metadata": {
    "vscode": {
     "languageId": "r"
    }
   },
   "outputs": [],
   "source": [
    "# URL of the compressed file\n",
    "url <- \"https://ftp.ncbi.nlm.nih.gov/geo/series/GSE223nnn/GSE223100/suppl/GSE223100%5Fcounts.txt.gz\"\n",
    "\n",
    "# Download the compressed file to a temporary location\n",
    "temp_compressed <- tempfile(fileext = \".gz\")\n",
    "download.file(url, temp_compressed)\n",
    "\n",
    "# Decompress the file\n",
    "temp_decompressed <- tempfile()\n",
    "gzfile <- gzfile(temp_compressed, \"rb\")\n",
    "writeLines(readLines(gzfile), temp_decompressed)\n",
    "close(gzfile)"
   ]
  },
  {
   "cell_type": "code",
   "execution_count": 76,
   "metadata": {
    "vscode": {
     "languageId": "r"
    }
   },
   "outputs": [
    {
     "data": {
      "text/html": [
       "<table class=\"dataframe\">\n",
       "<caption>A data.frame: 6 × 3</caption>\n",
       "<thead>\n",
       "\t<tr><th></th><th scope=col>Sample</th><th scope=col>Tissue</th><th scope=col>CellType</th></tr>\n",
       "\t<tr><th></th><th scope=col>&lt;chr&gt;</th><th scope=col>&lt;chr&gt;</th><th scope=col>&lt;chr&gt;</th></tr>\n",
       "</thead>\n",
       "<tbody>\n",
       "\t<tr><th scope=row>1</th><td>BM_pDCs_R1     </td><td>Bone Marrow</td><td>pDCs    </td></tr>\n",
       "\t<tr><th scope=row>2</th><td>BM_pDC_like_R1 </td><td>Bone Marrow</td><td>pDC-like</td></tr>\n",
       "\t<tr><th scope=row>3</th><td>Spl_pDCs_R1    </td><td>Spleen     </td><td>pDCs    </td></tr>\n",
       "\t<tr><th scope=row>4</th><td>Spl_pDC_like_R1</td><td>Spleen     </td><td>pDC-like</td></tr>\n",
       "\t<tr><th scope=row>5</th><td>Spl_cDC1_R1    </td><td>Spleen     </td><td>cDC1    </td></tr>\n",
       "\t<tr><th scope=row>6</th><td>Spl_cDC2_R1    </td><td>Spleen     </td><td>cDC2    </td></tr>\n",
       "</tbody>\n",
       "</table>\n"
      ],
      "text/latex": [
       "A data.frame: 6 × 3\n",
       "\\begin{tabular}{r|lll}\n",
       "  & Sample & Tissue & CellType\\\\\n",
       "  & <chr> & <chr> & <chr>\\\\\n",
       "\\hline\n",
       "\t1 & BM\\_pDCs\\_R1      & Bone Marrow & pDCs    \\\\\n",
       "\t2 & BM\\_pDC\\_like\\_R1  & Bone Marrow & pDC-like\\\\\n",
       "\t3 & Spl\\_pDCs\\_R1     & Spleen      & pDCs    \\\\\n",
       "\t4 & Spl\\_pDC\\_like\\_R1 & Spleen      & pDC-like\\\\\n",
       "\t5 & Spl\\_cDC1\\_R1     & Spleen      & cDC1    \\\\\n",
       "\t6 & Spl\\_cDC2\\_R1     & Spleen      & cDC2    \\\\\n",
       "\\end{tabular}\n"
      ],
      "text/markdown": [
       "\n",
       "A data.frame: 6 × 3\n",
       "\n",
       "| <!--/--> | Sample &lt;chr&gt; | Tissue &lt;chr&gt; | CellType &lt;chr&gt; |\n",
       "|---|---|---|---|\n",
       "| 1 | BM_pDCs_R1      | Bone Marrow | pDCs     |\n",
       "| 2 | BM_pDC_like_R1  | Bone Marrow | pDC-like |\n",
       "| 3 | Spl_pDCs_R1     | Spleen      | pDCs     |\n",
       "| 4 | Spl_pDC_like_R1 | Spleen      | pDC-like |\n",
       "| 5 | Spl_cDC1_R1     | Spleen      | cDC1     |\n",
       "| 6 | Spl_cDC2_R1     | Spleen      | cDC2     |\n",
       "\n"
      ],
      "text/plain": [
       "  Sample          Tissue      CellType\n",
       "1 BM_pDCs_R1      Bone Marrow pDCs    \n",
       "2 BM_pDC_like_R1  Bone Marrow pDC-like\n",
       "3 Spl_pDCs_R1     Spleen      pDCs    \n",
       "4 Spl_pDC_like_R1 Spleen      pDC-like\n",
       "5 Spl_cDC1_R1     Spleen      cDC1    \n",
       "6 Spl_cDC2_R1     Spleen      cDC2    "
      ]
     },
     "metadata": {},
     "output_type": "display_data"
    }
   ],
   "source": [
    "metadata <- read.csv2(\"metadata.csv\", sep = \",\")\n",
    "head(metadata)"
   ]
  },
  {
   "cell_type": "code",
   "execution_count": 131,
   "metadata": {
    "vscode": {
     "languageId": "r"
    }
   },
   "outputs": [
    {
     "data": {
      "text/html": [
       "<table class=\"dataframe\">\n",
       "<caption>A matrix: 6 × 42 of type int</caption>\n",
       "<thead>\n",
       "\t<tr><th></th><th scope=col>BM_pDCs_R1</th><th scope=col>BM_pDC_like_R1</th><th scope=col>Spl_pDCs_R1</th><th scope=col>Spl_pDC_like_R1</th><th scope=col>Spl_cDC1_R1</th><th scope=col>Spl_cDC2_R1</th><th scope=col>Thy_pDCs_R1</th><th scope=col>Thy_pDC_like_R1</th><th scope=col>Thy_cDC1_R1</th><th scope=col>Thy_cDC2_R1</th><th scope=col>⋯</th><th scope=col>Spl_cDC1_R3</th><th scope=col>Spl_cDC2_R3</th><th scope=col>Thy_pDCs_R3</th><th scope=col>Thy_pDC_like_R3</th><th scope=col>Thy_cDC1_R3</th><th scope=col>Thy_cDC2_R3</th><th scope=col>mLN_pDCs_R3</th><th scope=col>mLN_pDC_like_R3</th><th scope=col>mLN_cDC1_R3</th><th scope=col>mLN_cDC2_R3</th></tr>\n",
       "</thead>\n",
       "<tbody>\n",
       "\t<tr><th scope=row>ENSMUSG00000103416</th><td> 0</td><td> 0</td><td> 0</td><td> 0</td><td> 0</td><td> 0</td><td> 0</td><td> 0</td><td> 0</td><td> 0</td><td>⋯</td><td> 0</td><td> 0</td><td> 0</td><td> 0</td><td> 0</td><td> 0</td><td> 0</td><td> 0</td><td> 0</td><td> 0</td></tr>\n",
       "\t<tr><th scope=row>ENSMUSG00000017688</th><td> 0</td><td> 0</td><td> 0</td><td> 0</td><td> 0</td><td> 0</td><td> 0</td><td> 0</td><td> 0</td><td> 0</td><td>⋯</td><td> 0</td><td> 0</td><td> 0</td><td> 0</td><td> 0</td><td> 0</td><td> 0</td><td> 0</td><td> 0</td><td> 0</td></tr>\n",
       "\t<tr><th scope=row>ENSMUSG00000102283</th><td> 0</td><td> 0</td><td> 0</td><td> 0</td><td> 0</td><td> 0</td><td> 0</td><td> 0</td><td> 0</td><td> 0</td><td>⋯</td><td> 0</td><td> 0</td><td> 0</td><td> 0</td><td> 0</td><td> 0</td><td> 0</td><td> 0</td><td> 0</td><td> 0</td></tr>\n",
       "\t<tr><th scope=row>ENSMUSG00000077829</th><td> 0</td><td> 0</td><td> 0</td><td> 0</td><td> 0</td><td> 0</td><td> 0</td><td> 0</td><td> 0</td><td> 0</td><td>⋯</td><td> 0</td><td> 0</td><td> 0</td><td> 0</td><td> 0</td><td> 0</td><td> 0</td><td> 0</td><td> 0</td><td> 0</td></tr>\n",
       "\t<tr><th scope=row>ENSMUSG00000069125</th><td>12</td><td>27</td><td>31</td><td>18</td><td>50</td><td>53</td><td>12</td><td>40</td><td>32</td><td>19</td><td>⋯</td><td>45</td><td>84</td><td>34</td><td>36</td><td>50</td><td>41</td><td>27</td><td>18</td><td>24</td><td>31</td></tr>\n",
       "\t<tr><th scope=row>ENSMUSG00000103245</th><td> 0</td><td> 0</td><td> 0</td><td> 0</td><td> 0</td><td> 0</td><td> 0</td><td> 0</td><td> 0</td><td> 0</td><td>⋯</td><td> 0</td><td> 0</td><td> 0</td><td> 0</td><td> 0</td><td> 0</td><td> 0</td><td> 0</td><td> 0</td><td> 0</td></tr>\n",
       "</tbody>\n",
       "</table>\n"
      ],
      "text/latex": [
       "A matrix: 6 × 42 of type int\n",
       "\\begin{tabular}{r|lllllllllllllllllllll}\n",
       "  & BM\\_pDCs\\_R1 & BM\\_pDC\\_like\\_R1 & Spl\\_pDCs\\_R1 & Spl\\_pDC\\_like\\_R1 & Spl\\_cDC1\\_R1 & Spl\\_cDC2\\_R1 & Thy\\_pDCs\\_R1 & Thy\\_pDC\\_like\\_R1 & Thy\\_cDC1\\_R1 & Thy\\_cDC2\\_R1 & ⋯ & Spl\\_cDC1\\_R3 & Spl\\_cDC2\\_R3 & Thy\\_pDCs\\_R3 & Thy\\_pDC\\_like\\_R3 & Thy\\_cDC1\\_R3 & Thy\\_cDC2\\_R3 & mLN\\_pDCs\\_R3 & mLN\\_pDC\\_like\\_R3 & mLN\\_cDC1\\_R3 & mLN\\_cDC2\\_R3\\\\\n",
       "\\hline\n",
       "\tENSMUSG00000103416 &  0 &  0 &  0 &  0 &  0 &  0 &  0 &  0 &  0 &  0 & ⋯ &  0 &  0 &  0 &  0 &  0 &  0 &  0 &  0 &  0 &  0\\\\\n",
       "\tENSMUSG00000017688 &  0 &  0 &  0 &  0 &  0 &  0 &  0 &  0 &  0 &  0 & ⋯ &  0 &  0 &  0 &  0 &  0 &  0 &  0 &  0 &  0 &  0\\\\\n",
       "\tENSMUSG00000102283 &  0 &  0 &  0 &  0 &  0 &  0 &  0 &  0 &  0 &  0 & ⋯ &  0 &  0 &  0 &  0 &  0 &  0 &  0 &  0 &  0 &  0\\\\\n",
       "\tENSMUSG00000077829 &  0 &  0 &  0 &  0 &  0 &  0 &  0 &  0 &  0 &  0 & ⋯ &  0 &  0 &  0 &  0 &  0 &  0 &  0 &  0 &  0 &  0\\\\\n",
       "\tENSMUSG00000069125 & 12 & 27 & 31 & 18 & 50 & 53 & 12 & 40 & 32 & 19 & ⋯ & 45 & 84 & 34 & 36 & 50 & 41 & 27 & 18 & 24 & 31\\\\\n",
       "\tENSMUSG00000103245 &  0 &  0 &  0 &  0 &  0 &  0 &  0 &  0 &  0 &  0 & ⋯ &  0 &  0 &  0 &  0 &  0 &  0 &  0 &  0 &  0 &  0\\\\\n",
       "\\end{tabular}\n"
      ],
      "text/markdown": [
       "\n",
       "A matrix: 6 × 42 of type int\n",
       "\n",
       "| <!--/--> | BM_pDCs_R1 | BM_pDC_like_R1 | Spl_pDCs_R1 | Spl_pDC_like_R1 | Spl_cDC1_R1 | Spl_cDC2_R1 | Thy_pDCs_R1 | Thy_pDC_like_R1 | Thy_cDC1_R1 | Thy_cDC2_R1 | ⋯ | Spl_cDC1_R3 | Spl_cDC2_R3 | Thy_pDCs_R3 | Thy_pDC_like_R3 | Thy_cDC1_R3 | Thy_cDC2_R3 | mLN_pDCs_R3 | mLN_pDC_like_R3 | mLN_cDC1_R3 | mLN_cDC2_R3 |\n",
       "|---|---|---|---|---|---|---|---|---|---|---|---|---|---|---|---|---|---|---|---|---|---|\n",
       "| ENSMUSG00000103416 |  0 |  0 |  0 |  0 |  0 |  0 |  0 |  0 |  0 |  0 | ⋯ |  0 |  0 |  0 |  0 |  0 |  0 |  0 |  0 |  0 |  0 |\n",
       "| ENSMUSG00000017688 |  0 |  0 |  0 |  0 |  0 |  0 |  0 |  0 |  0 |  0 | ⋯ |  0 |  0 |  0 |  0 |  0 |  0 |  0 |  0 |  0 |  0 |\n",
       "| ENSMUSG00000102283 |  0 |  0 |  0 |  0 |  0 |  0 |  0 |  0 |  0 |  0 | ⋯ |  0 |  0 |  0 |  0 |  0 |  0 |  0 |  0 |  0 |  0 |\n",
       "| ENSMUSG00000077829 |  0 |  0 |  0 |  0 |  0 |  0 |  0 |  0 |  0 |  0 | ⋯ |  0 |  0 |  0 |  0 |  0 |  0 |  0 |  0 |  0 |  0 |\n",
       "| ENSMUSG00000069125 | 12 | 27 | 31 | 18 | 50 | 53 | 12 | 40 | 32 | 19 | ⋯ | 45 | 84 | 34 | 36 | 50 | 41 | 27 | 18 | 24 | 31 |\n",
       "| ENSMUSG00000103245 |  0 |  0 |  0 |  0 |  0 |  0 |  0 |  0 |  0 |  0 | ⋯ |  0 |  0 |  0 |  0 |  0 |  0 |  0 |  0 |  0 |  0 |\n",
       "\n"
      ],
      "text/plain": [
       "                   BM_pDCs_R1 BM_pDC_like_R1 Spl_pDCs_R1 Spl_pDC_like_R1\n",
       "ENSMUSG00000103416  0          0              0           0             \n",
       "ENSMUSG00000017688  0          0              0           0             \n",
       "ENSMUSG00000102283  0          0              0           0             \n",
       "ENSMUSG00000077829  0          0              0           0             \n",
       "ENSMUSG00000069125 12         27             31          18             \n",
       "ENSMUSG00000103245  0          0              0           0             \n",
       "                   Spl_cDC1_R1 Spl_cDC2_R1 Thy_pDCs_R1 Thy_pDC_like_R1\n",
       "ENSMUSG00000103416  0           0           0           0             \n",
       "ENSMUSG00000017688  0           0           0           0             \n",
       "ENSMUSG00000102283  0           0           0           0             \n",
       "ENSMUSG00000077829  0           0           0           0             \n",
       "ENSMUSG00000069125 50          53          12          40             \n",
       "ENSMUSG00000103245  0           0           0           0             \n",
       "                   Thy_cDC1_R1 Thy_cDC2_R1 ⋯ Spl_cDC1_R3 Spl_cDC2_R3\n",
       "ENSMUSG00000103416  0           0          ⋯  0           0         \n",
       "ENSMUSG00000017688  0           0          ⋯  0           0         \n",
       "ENSMUSG00000102283  0           0          ⋯  0           0         \n",
       "ENSMUSG00000077829  0           0          ⋯  0           0         \n",
       "ENSMUSG00000069125 32          19          ⋯ 45          84         \n",
       "ENSMUSG00000103245  0           0          ⋯  0           0         \n",
       "                   Thy_pDCs_R3 Thy_pDC_like_R3 Thy_cDC1_R3 Thy_cDC2_R3\n",
       "ENSMUSG00000103416  0           0               0           0         \n",
       "ENSMUSG00000017688  0           0               0           0         \n",
       "ENSMUSG00000102283  0           0               0           0         \n",
       "ENSMUSG00000077829  0           0               0           0         \n",
       "ENSMUSG00000069125 34          36              50          41         \n",
       "ENSMUSG00000103245  0           0               0           0         \n",
       "                   mLN_pDCs_R3 mLN_pDC_like_R3 mLN_cDC1_R3 mLN_cDC2_R3\n",
       "ENSMUSG00000103416  0           0               0           0         \n",
       "ENSMUSG00000017688  0           0               0           0         \n",
       "ENSMUSG00000102283  0           0               0           0         \n",
       "ENSMUSG00000077829  0           0               0           0         \n",
       "ENSMUSG00000069125 27          18              24          31         \n",
       "ENSMUSG00000103245  0           0               0           0         "
      ]
     },
     "metadata": {},
     "output_type": "display_data"
    }
   ],
   "source": [
    "counts <- read.table(temp_compressed, header = TRUE, sep = '\\t', na.strings = '', row.names = 1)[-1]\n",
    "names(counts) <- metadata$Sample\n",
    "counts <- as.matrix(counts)\n",
    "head(counts)"
   ]
  },
  {
   "cell_type": "markdown",
   "metadata": {},
   "source": [
    "## Annotate"
   ]
  },
  {
   "cell_type": "code",
   "execution_count": 113,
   "metadata": {
    "vscode": {
     "languageId": "r"
    }
   },
   "outputs": [
    {
     "data": {
      "text/html": [
       "<table class=\"dataframe\">\n",
       "<caption>A data.frame: 2 × 3</caption>\n",
       "<thead>\n",
       "\t<tr><th scope=col>dataset</th><th scope=col>description</th><th scope=col>version</th></tr>\n",
       "\t<tr><th scope=col>&lt;I&lt;chr&gt;&gt;</th><th scope=col>&lt;I&lt;chr&gt;&gt;</th><th scope=col>&lt;I&lt;chr&gt;&gt;</th></tr>\n",
       "</thead>\n",
       "<tbody>\n",
       "\t<tr><td>bmusculus_gene_ensembl</td><td>Blue whale genes (mBalMus1.v2)</td><td>mBalMus1.v2</td></tr>\n",
       "\t<tr><td>mmusculus_gene_ensembl</td><td>Mouse genes (GRCm39)          </td><td>GRCm39     </td></tr>\n",
       "</tbody>\n",
       "</table>\n"
      ],
      "text/latex": [
       "A data.frame: 2 × 3\n",
       "\\begin{tabular}{lll}\n",
       " dataset & description & version\\\\\n",
       " <I<chr>> & <I<chr>> & <I<chr>>\\\\\n",
       "\\hline\n",
       "\t bmusculus\\_gene\\_ensembl & Blue whale genes (mBalMus1.v2) & mBalMus1.v2\\\\\n",
       "\t mmusculus\\_gene\\_ensembl & Mouse genes (GRCm39)           & GRCm39     \\\\\n",
       "\\end{tabular}\n"
      ],
      "text/markdown": [
       "\n",
       "A data.frame: 2 × 3\n",
       "\n",
       "| dataset &lt;I&lt;chr&gt;&gt; | description &lt;I&lt;chr&gt;&gt; | version &lt;I&lt;chr&gt;&gt; |\n",
       "|---|---|---|\n",
       "| bmusculus_gene_ensembl | Blue whale genes (mBalMus1.v2) | mBalMus1.v2 |\n",
       "| mmusculus_gene_ensembl | Mouse genes (GRCm39)           | GRCm39      |\n",
       "\n"
      ],
      "text/plain": [
       "  dataset                description                    version    \n",
       "1 bmusculus_gene_ensembl Blue whale genes (mBalMus1.v2) mBalMus1.v2\n",
       "2 mmusculus_gene_ensembl Mouse genes (GRCm39)           GRCm39     "
      ]
     },
     "metadata": {},
     "output_type": "display_data"
    }
   ],
   "source": [
    "ensembl <- useMart(\"ensembl\")\n",
    "datasets <- listDatasets(ensembl)\n",
    "datasets %>%\n",
    "  filter(str_detect(dataset, \"musculus\"))"
   ]
  },
  {
   "cell_type": "code",
   "execution_count": 114,
   "metadata": {
    "vscode": {
     "languageId": "r"
    }
   },
   "outputs": [
    {
     "name": "stderr",
     "output_type": "stream",
     "text": [
      "\n",
      "Batch submitting query [==>----------------------------]   8% eta:  5m\n",
      "\n",
      "Batch submitting query [====>--------------------------]  17% eta:  4m\n",
      "\n",
      "Batch submitting query [=======>-----------------------]  25% eta:  3m\n",
      "\n",
      "Batch submitting query [=========>---------------------]  33% eta:  2m\n",
      "\n",
      "Batch submitting query [============>------------------]  42% eta:  2m\n",
      "\n",
      "Batch submitting query [===============>---------------]  50% eta:  2m\n",
      "\n",
      "Batch submitting query [=================>-------------]  58% eta:  1m\n",
      "\n",
      "Batch submitting query [====================>----------]  67% eta:  1m\n",
      "\n",
      "Batch submitting query [======================>--------]  75% eta:  1m\n",
      "\n",
      "Batch submitting query [=========================>-----]  83% eta: 43s\n",
      "\n",
      "Batch submitting query [===========================>---]  92% eta: 20s\n",
      "                                                                      \n",
      "\n"
     ]
    }
   ],
   "source": [
    "mart <- useMart(\"ensembl\", dataset = \"mmusculus_gene_ensembl\")\n",
    "ensembl_annot <- getBM(attributes=c(\"ensembl_gene_id\",\"external_gene_name\"),\n",
    "                       filters = \"ensembl_gene_id\",\n",
    "                       values = rownames(counts), \n",
    "                       mart = mart)"
   ]
  },
  {
   "cell_type": "code",
   "execution_count": 132,
   "metadata": {
    "vscode": {
     "languageId": "r"
    }
   },
   "outputs": [
    {
     "data": {
      "text/html": [
       "<table class=\"dataframe\">\n",
       "<caption>A matrix: 6 × 42 of type int</caption>\n",
       "<thead>\n",
       "\t<tr><th></th><th scope=col>BM_pDCs_R1</th><th scope=col>BM_pDC_like_R1</th><th scope=col>Spl_pDCs_R1</th><th scope=col>Spl_pDC_like_R1</th><th scope=col>Spl_cDC1_R1</th><th scope=col>Spl_cDC2_R1</th><th scope=col>Thy_pDCs_R1</th><th scope=col>Thy_pDC_like_R1</th><th scope=col>Thy_cDC1_R1</th><th scope=col>Thy_cDC2_R1</th><th scope=col>⋯</th><th scope=col>Spl_cDC1_R3</th><th scope=col>Spl_cDC2_R3</th><th scope=col>Thy_pDCs_R3</th><th scope=col>Thy_pDC_like_R3</th><th scope=col>Thy_cDC1_R3</th><th scope=col>Thy_cDC2_R3</th><th scope=col>mLN_pDCs_R3</th><th scope=col>mLN_pDC_like_R3</th><th scope=col>mLN_cDC1_R3</th><th scope=col>mLN_cDC2_R3</th></tr>\n",
       "</thead>\n",
       "<tbody>\n",
       "\t<tr><th scope=row>Gm37338</th><td> 0</td><td> 0</td><td>  0</td><td> 0</td><td>  0</td><td>  0</td><td> 0</td><td>  0</td><td>  0</td><td> 0</td><td>⋯</td><td> 0</td><td>  0</td><td> 0</td><td> 0</td><td> 0</td><td> 0</td><td> 0</td><td> 0</td><td> 0</td><td> 0</td></tr>\n",
       "\t<tr><th scope=row>Hnf4g</th><td> 0</td><td> 0</td><td>  0</td><td> 0</td><td>  0</td><td>  0</td><td> 0</td><td>  0</td><td>  0</td><td> 0</td><td>⋯</td><td> 0</td><td>  0</td><td> 0</td><td> 0</td><td> 0</td><td> 0</td><td> 0</td><td> 0</td><td> 0</td><td> 0</td></tr>\n",
       "\t<tr><th scope=row>Gm37000</th><td> 0</td><td> 0</td><td>  0</td><td> 0</td><td>  0</td><td>  0</td><td> 0</td><td>  0</td><td>  0</td><td> 0</td><td>⋯</td><td> 0</td><td>  0</td><td> 0</td><td> 0</td><td> 0</td><td> 0</td><td> 0</td><td> 0</td><td> 0</td><td> 0</td></tr>\n",
       "\t<tr><th scope=row>Rps24-ps2</th><td>12</td><td>27</td><td> 31</td><td>18</td><td> 50</td><td> 53</td><td>12</td><td> 40</td><td> 32</td><td>19</td><td>⋯</td><td>45</td><td> 84</td><td>34</td><td>36</td><td>50</td><td>41</td><td>27</td><td>18</td><td>24</td><td>31</td></tr>\n",
       "\t<tr><th scope=row>Pou5f1-rs3</th><td> 0</td><td> 0</td><td>  0</td><td> 0</td><td>  0</td><td>  0</td><td> 0</td><td>  0</td><td>  0</td><td> 0</td><td>⋯</td><td> 0</td><td>  0</td><td> 0</td><td> 0</td><td> 0</td><td> 0</td><td> 0</td><td> 0</td><td> 0</td><td> 0</td></tr>\n",
       "\t<tr><th scope=row>Gm2077</th><td>80</td><td>91</td><td>114</td><td>97</td><td>160</td><td>186</td><td>51</td><td>157</td><td>103</td><td>63</td><td>⋯</td><td>75</td><td>189</td><td>91</td><td>88</td><td>86</td><td>96</td><td>63</td><td>76</td><td>69</td><td>70</td></tr>\n",
       "</tbody>\n",
       "</table>\n"
      ],
      "text/latex": [
       "A matrix: 6 × 42 of type int\n",
       "\\begin{tabular}{r|lllllllllllllllllllll}\n",
       "  & BM\\_pDCs\\_R1 & BM\\_pDC\\_like\\_R1 & Spl\\_pDCs\\_R1 & Spl\\_pDC\\_like\\_R1 & Spl\\_cDC1\\_R1 & Spl\\_cDC2\\_R1 & Thy\\_pDCs\\_R1 & Thy\\_pDC\\_like\\_R1 & Thy\\_cDC1\\_R1 & Thy\\_cDC2\\_R1 & ⋯ & Spl\\_cDC1\\_R3 & Spl\\_cDC2\\_R3 & Thy\\_pDCs\\_R3 & Thy\\_pDC\\_like\\_R3 & Thy\\_cDC1\\_R3 & Thy\\_cDC2\\_R3 & mLN\\_pDCs\\_R3 & mLN\\_pDC\\_like\\_R3 & mLN\\_cDC1\\_R3 & mLN\\_cDC2\\_R3\\\\\n",
       "\\hline\n",
       "\tGm37338 &  0 &  0 &   0 &  0 &   0 &   0 &  0 &   0 &   0 &  0 & ⋯ &  0 &   0 &  0 &  0 &  0 &  0 &  0 &  0 &  0 &  0\\\\\n",
       "\tHnf4g &  0 &  0 &   0 &  0 &   0 &   0 &  0 &   0 &   0 &  0 & ⋯ &  0 &   0 &  0 &  0 &  0 &  0 &  0 &  0 &  0 &  0\\\\\n",
       "\tGm37000 &  0 &  0 &   0 &  0 &   0 &   0 &  0 &   0 &   0 &  0 & ⋯ &  0 &   0 &  0 &  0 &  0 &  0 &  0 &  0 &  0 &  0\\\\\n",
       "\tRps24-ps2 & 12 & 27 &  31 & 18 &  50 &  53 & 12 &  40 &  32 & 19 & ⋯ & 45 &  84 & 34 & 36 & 50 & 41 & 27 & 18 & 24 & 31\\\\\n",
       "\tPou5f1-rs3 &  0 &  0 &   0 &  0 &   0 &   0 &  0 &   0 &   0 &  0 & ⋯ &  0 &   0 &  0 &  0 &  0 &  0 &  0 &  0 &  0 &  0\\\\\n",
       "\tGm2077 & 80 & 91 & 114 & 97 & 160 & 186 & 51 & 157 & 103 & 63 & ⋯ & 75 & 189 & 91 & 88 & 86 & 96 & 63 & 76 & 69 & 70\\\\\n",
       "\\end{tabular}\n"
      ],
      "text/markdown": [
       "\n",
       "A matrix: 6 × 42 of type int\n",
       "\n",
       "| <!--/--> | BM_pDCs_R1 | BM_pDC_like_R1 | Spl_pDCs_R1 | Spl_pDC_like_R1 | Spl_cDC1_R1 | Spl_cDC2_R1 | Thy_pDCs_R1 | Thy_pDC_like_R1 | Thy_cDC1_R1 | Thy_cDC2_R1 | ⋯ | Spl_cDC1_R3 | Spl_cDC2_R3 | Thy_pDCs_R3 | Thy_pDC_like_R3 | Thy_cDC1_R3 | Thy_cDC2_R3 | mLN_pDCs_R3 | mLN_pDC_like_R3 | mLN_cDC1_R3 | mLN_cDC2_R3 |\n",
       "|---|---|---|---|---|---|---|---|---|---|---|---|---|---|---|---|---|---|---|---|---|---|\n",
       "| Gm37338 |  0 |  0 |   0 |  0 |   0 |   0 |  0 |   0 |   0 |  0 | ⋯ |  0 |   0 |  0 |  0 |  0 |  0 |  0 |  0 |  0 |  0 |\n",
       "| Hnf4g |  0 |  0 |   0 |  0 |   0 |   0 |  0 |   0 |   0 |  0 | ⋯ |  0 |   0 |  0 |  0 |  0 |  0 |  0 |  0 |  0 |  0 |\n",
       "| Gm37000 |  0 |  0 |   0 |  0 |   0 |   0 |  0 |   0 |   0 |  0 | ⋯ |  0 |   0 |  0 |  0 |  0 |  0 |  0 |  0 |  0 |  0 |\n",
       "| Rps24-ps2 | 12 | 27 |  31 | 18 |  50 |  53 | 12 |  40 |  32 | 19 | ⋯ | 45 |  84 | 34 | 36 | 50 | 41 | 27 | 18 | 24 | 31 |\n",
       "| Pou5f1-rs3 |  0 |  0 |   0 |  0 |   0 |   0 |  0 |   0 |   0 |  0 | ⋯ |  0 |   0 |  0 |  0 |  0 |  0 |  0 |  0 |  0 |  0 |\n",
       "| Gm2077 | 80 | 91 | 114 | 97 | 160 | 186 | 51 | 157 | 103 | 63 | ⋯ | 75 | 189 | 91 | 88 | 86 | 96 | 63 | 76 | 69 | 70 |\n",
       "\n"
      ],
      "text/plain": [
       "           BM_pDCs_R1 BM_pDC_like_R1 Spl_pDCs_R1 Spl_pDC_like_R1 Spl_cDC1_R1\n",
       "Gm37338     0          0               0          0                0        \n",
       "Hnf4g       0          0               0          0                0        \n",
       "Gm37000     0          0               0          0                0        \n",
       "Rps24-ps2  12         27              31         18               50        \n",
       "Pou5f1-rs3  0          0               0          0                0        \n",
       "Gm2077     80         91             114         97              160        \n",
       "           Spl_cDC2_R1 Thy_pDCs_R1 Thy_pDC_like_R1 Thy_cDC1_R1 Thy_cDC2_R1 ⋯\n",
       "Gm37338      0          0            0               0          0          ⋯\n",
       "Hnf4g        0          0            0               0          0          ⋯\n",
       "Gm37000      0          0            0               0          0          ⋯\n",
       "Rps24-ps2   53         12           40              32         19          ⋯\n",
       "Pou5f1-rs3   0          0            0               0          0          ⋯\n",
       "Gm2077     186         51          157             103         63          ⋯\n",
       "           Spl_cDC1_R3 Spl_cDC2_R3 Thy_pDCs_R3 Thy_pDC_like_R3 Thy_cDC1_R3\n",
       "Gm37338     0            0          0           0               0         \n",
       "Hnf4g       0            0          0           0               0         \n",
       "Gm37000     0            0          0           0               0         \n",
       "Rps24-ps2  45           84         34          36              50         \n",
       "Pou5f1-rs3  0            0          0           0               0         \n",
       "Gm2077     75          189         91          88              86         \n",
       "           Thy_cDC2_R3 mLN_pDCs_R3 mLN_pDC_like_R3 mLN_cDC1_R3 mLN_cDC2_R3\n",
       "Gm37338     0           0           0               0           0         \n",
       "Hnf4g       0           0           0               0           0         \n",
       "Gm37000     0           0           0               0           0         \n",
       "Rps24-ps2  41          27          18              24          31         \n",
       "Pou5f1-rs3  0           0           0               0           0         \n",
       "Gm2077     96          63          76              69          70         "
      ]
     },
     "metadata": {},
     "output_type": "display_data"
    }
   ],
   "source": [
    "cols <- as.data.frame(rownames(counts))\n",
    "new_names <- left_join(cols, ensembl_annot, by = c(\"rownames(counts)\" = \"ensembl_gene_id\"))\n",
    "rownames(counts) <- new_names$external_gene_name\n",
    "counts <- counts[!is.na(rownames(counts)), ]\n",
    "head(counts)"
   ]
  },
  {
   "cell_type": "code",
   "execution_count": 133,
   "metadata": {
    "vscode": {
     "languageId": "r"
    }
   },
   "outputs": [],
   "source": [
    "# Create a box plot\n",
    "counts_mat <- as.matrix(counts)\n",
    "box_plot <- ggplot(data = melt(counts_mat), aes(x = Var2, y = value)) +\n",
    "  geom_boxplot() +\n",
    "  labs(x = \"Samples\", y = \"Counts\") +\n",
    "  theme(axis.text.x = element_text(angle = 90, vjust = 0.5)) + # Rotate x-axis labels for better readability\n",
    "  ggtitle(\"Box Plot of Counts Matrix\")\n",
    "\n",
    "# Compute summary statistics\n",
    "summary_stats <- apply(counts_mat, 2, summary)\n",
    "formatted_summary <- t(round(summary_stats, 2)) "
   ]
  },
  {
   "cell_type": "code",
   "execution_count": 134,
   "metadata": {
    "vscode": {
     "languageId": "r"
    }
   },
   "outputs": [
    {
     "data": {
      "image/png": "[encoded data removed]",
      "text/plain": [
       "plot without title"
      ]
     },
     "metadata": {
      "image/png": {
       "height": 420,
       "width": 420
      }
     },
     "output_type": "display_data"
    }
   ],
   "source": [
    "box_plot"
   ]
  },
  {
   "cell_type": "code",
   "execution_count": 135,
   "metadata": {
    "vscode": {
     "languageId": "r"
    }
   },
   "outputs": [
    {
     "name": "stdout",
     "output_type": "stream",
     "text": [
      "\n",
      "\n",
      "Table: Summary Statistics\n",
      "\n",
      "|                | Min. | 1st Qu. | Median |  Mean   | 3rd Qu. |  Max.   |\n",
      "|:---------------|:----:|:-------:|:------:|:-------:|:-------:|:-------:|\n",
      "|BM_pDCs_R1      |  0   |    0    |   0    | 327.18  |   41    | 129115  |\n",
      "|BM_pDC_like_R1  |  0   |    0    |   0    | 534.60  |   68    | 373365  |\n",
      "|Spl_pDCs_R1     |  0   |    0    |   0    | 522.12  |   60    | 308531  |\n",
      "|Spl_pDC_like_R1 |  0   |    0    |   0    | 534.48  |   69    | 332906  |\n",
      "|Spl_cDC1_R1     |  0   |    0    |   0    | 1009.40 |   106   | 1601199 |\n",
      "|Spl_cDC2_R1     |  0   |    0    |   0    | 961.10  |   117   | 1467053 |\n",
      "|Thy_pDCs_R1     |  0   |    0    |   0    | 324.16  |   36    | 199626  |\n",
      "|Thy_pDC_like_R1 |  0   |    0    |   0    | 737.41  |   94    | 600788  |\n",
      "|Thy_cDC1_R1     |  0   |    0    |   0    | 562.39  |   60    | 803291  |\n",
      "|Thy_cDC2_R1     |  0   |    0    |   0    | 396.82  |   57    | 635900  |\n",
      "|mLN_pDCs_R1     |  0   |    0    |   0    | 353.09  |   42    | 220555  |\n",
      "|mLN_pDC_like_R1 |  0   |    0    |   0    | 464.34  |   59    | 361344  |\n",
      "|mLN_cDC1_R1     |  0   |    0    |   0    | 449.28  |   54    | 568321  |\n",
      "|mLN_cDC2_R1     |  0   |    0    |   0    | 430.09  |   62    | 620676  |\n",
      "|BM_pDCs_R2      |  0   |    0    |   0    | 433.39  |   67    | 173918  |\n",
      "|BM_pDC_like_R2  |  0   |    0    |   0    | 389.02  |   54    | 225612  |\n",
      "|Spl_pDCs_R2     |  0   |    0    |   0    | 514.36  |   65    | 276236  |\n",
      "|Spl_pDC_like_R2 |  0   |    0    |   0    | 408.72  |   47    | 159482  |\n",
      "|Spl_cDC1_R2     |  0   |    0    |   0    | 477.53  |   37    | 1157022 |\n",
      "|Spl_cDC2_R2     |  0   |    0    |   0    | 376.42  |   51    | 641326  |\n",
      "|Thy_pDCs_R2     |  0   |    0    |   0    | 458.06  |   56    | 209141  |\n",
      "|Thy_pDC_like_R2 |  0   |    0    |   0    | 409.61  |   54    | 263869  |\n",
      "|Thy_cDC1_R2     |  0   |    0    |   0    | 338.58  |   35    | 694474  |\n",
      "|Thy_cDC2_R2     |  0   |    0    |   0    | 347.04  |   53    | 615986  |\n",
      "|mLN_pDCs_R2     |  0   |    0    |   0    | 334.28  |   40    | 225140  |\n",
      "|mLN_pDC_like_R2 |  0   |    0    |   0    | 508.58  |   64    | 449473  |\n",
      "|mLN_cDC1_R2     |  0   |    0    |   0    | 329.74  |   41    | 461840  |\n",
      "|mLN_cDC2_R2     |  0   |    0    |   0    | 332.90  |   53    | 452157  |\n",
      "|BM_pDCs_R3      |  0   |    0    |   2    | 3327.60 |   500   | 1501054 |\n",
      "|BM_pDC_like_R3  |  0   |    0    |   0    | 786.59  |   108   | 417797  |\n",
      "|Spl_pDCs_R3     |  0   |    0    |   0    | 777.07  |   95    | 465444  |\n",
      "|Spl_pDC_like_R3 |  0   |    0    |   0    | 686.77  |   92    | 485432  |\n",
      "|Spl_cDC1_R3     |  0   |    0    |   0    | 366.97  |   40    | 593732  |\n",
      "|Spl_cDC2_R3     |  0   |    0    |   0    | 506.09  |   57    | 789801  |\n",
      "|Thy_pDCs_R3     |  0   |    0    |   0    | 437.14  |   50    | 208657  |\n",
      "|Thy_pDC_like_R3 |  0   |    0    |   0    | 497.31  |   67    | 350692  |\n",
      "|Thy_cDC1_R3     |  0   |    0    |   0    | 469.27  |   50    | 679509  |\n",
      "|Thy_cDC2_R3     |  0   |    0    |   0    | 513.13  |   73    | 966620  |\n",
      "|mLN_pDCs_R3     |  0   |    0    |   0    | 418.35  |   50    | 259269  |\n",
      "|mLN_pDC_like_R3 |  0   |    0    |   0    | 378.76  |   46    | 279781  |\n",
      "|mLN_cDC1_R3     |  0   |    0    |   0    | 436.37  |   53    | 552842  |\n",
      "|mLN_cDC2_R3     |  0   |    0    |   0    | 381.41  |   53    | 590944  |\n"
     ]
    }
   ],
   "source": [
    "print(knitr::kable(formatted_summary, caption = \"Summary Statistics\", align = \"c\"))"
   ]
  },
  {
   "cell_type": "markdown",
   "metadata": {},
   "source": [
    "## Normalize data\n"
   ]
  },
  {
   "cell_type": "code",
   "execution_count": 136,
   "metadata": {
    "vscode": {
     "languageId": "r"
    }
   },
   "outputs": [
    {
     "data": {
      "text/html": [
       "<style>\n",
       ".list-inline {list-style: none; margin:0; padding: 0}\n",
       ".list-inline>li {display: inline-block}\n",
       ".list-inline>li:not(:last-child)::after {content: \"\\00b7\"; padding: 0 .5ex}\n",
       "</style>\n",
       "<ol class=list-inline><li>52184</li><li>42</li></ol>\n"
      ],
      "text/latex": [
       "\\begin{enumerate*}\n",
       "\\item 52184\n",
       "\\item 42\n",
       "\\end{enumerate*}\n"
      ],
      "text/markdown": [
       "1. 52184\n",
       "2. 42\n",
       "\n",
       "\n"
      ],
      "text/plain": [
       "[1] 52184    42"
      ]
     },
     "metadata": {},
     "output_type": "display_data"
    }
   ],
   "source": [
    "dgeFull1 = DGEList(counts = counts, group = metadata$condition)\n",
    "dim(dgeFull1)"
   ]
  },
  {
   "cell_type": "code",
   "execution_count": 137,
   "metadata": {
    "vscode": {
     "languageId": "r"
    }
   },
   "outputs": [
    {
     "data": {
      "text/html": [
       "<table class=\"dataframe\">\n",
       "<caption>A data.frame: 6 × 3</caption>\n",
       "<thead>\n",
       "\t<tr><th></th><th scope=col>group</th><th scope=col>lib.size</th><th scope=col>norm.factors</th></tr>\n",
       "\t<tr><th></th><th scope=col>&lt;fct&gt;</th><th scope=col>&lt;dbl&gt;</th><th scope=col>&lt;dbl&gt;</th></tr>\n",
       "</thead>\n",
       "<tbody>\n",
       "\t<tr><th scope=row>BM_pDCs_R1</th><td>1</td><td>17073555</td><td>1.1450753</td></tr>\n",
       "\t<tr><th scope=row>BM_pDC_like_R1</th><td>1</td><td>27897753</td><td>1.1024703</td></tr>\n",
       "\t<tr><th scope=row>Spl_pDCs_R1</th><td>1</td><td>27246311</td><td>1.0108743</td></tr>\n",
       "\t<tr><th scope=row>Spl_pDC_like_R1</th><td>1</td><td>27891275</td><td>1.0341418</td></tr>\n",
       "\t<tr><th scope=row>Spl_cDC1_R1</th><td>1</td><td>52674758</td><td>0.8757537</td></tr>\n",
       "\t<tr><th scope=row>Spl_cDC2_R1</th><td>1</td><td>50154048</td><td>0.8968853</td></tr>\n",
       "</tbody>\n",
       "</table>\n"
      ],
      "text/latex": [
       "A data.frame: 6 × 3\n",
       "\\begin{tabular}{r|lll}\n",
       "  & group & lib.size & norm.factors\\\\\n",
       "  & <fct> & <dbl> & <dbl>\\\\\n",
       "\\hline\n",
       "\tBM\\_pDCs\\_R1 & 1 & 17073555 & 1.1450753\\\\\n",
       "\tBM\\_pDC\\_like\\_R1 & 1 & 27897753 & 1.1024703\\\\\n",
       "\tSpl\\_pDCs\\_R1 & 1 & 27246311 & 1.0108743\\\\\n",
       "\tSpl\\_pDC\\_like\\_R1 & 1 & 27891275 & 1.0341418\\\\\n",
       "\tSpl\\_cDC1\\_R1 & 1 & 52674758 & 0.8757537\\\\\n",
       "\tSpl\\_cDC2\\_R1 & 1 & 50154048 & 0.8968853\\\\\n",
       "\\end{tabular}\n"
      ],
      "text/markdown": [
       "\n",
       "A data.frame: 6 × 3\n",
       "\n",
       "| <!--/--> | group &lt;fct&gt; | lib.size &lt;dbl&gt; | norm.factors &lt;dbl&gt; |\n",
       "|---|---|---|---|\n",
       "| BM_pDCs_R1 | 1 | 17073555 | 1.1450753 |\n",
       "| BM_pDC_like_R1 | 1 | 27897753 | 1.1024703 |\n",
       "| Spl_pDCs_R1 | 1 | 27246311 | 1.0108743 |\n",
       "| Spl_pDC_like_R1 | 1 | 27891275 | 1.0341418 |\n",
       "| Spl_cDC1_R1 | 1 | 52674758 | 0.8757537 |\n",
       "| Spl_cDC2_R1 | 1 | 50154048 | 0.8968853 |\n",
       "\n"
      ],
      "text/plain": [
       "                group lib.size norm.factors\n",
       "BM_pDCs_R1      1     17073555 1.1450753   \n",
       "BM_pDC_like_R1  1     27897753 1.1024703   \n",
       "Spl_pDCs_R1     1     27246311 1.0108743   \n",
       "Spl_pDC_like_R1 1     27891275 1.0341418   \n",
       "Spl_cDC1_R1     1     52674758 0.8757537   \n",
       "Spl_cDC2_R1     1     50154048 0.8968853   "
      ]
     },
     "metadata": {},
     "output_type": "display_data"
    }
   ],
   "source": [
    "dgeFull1 <- calcNormFactors(dgeFull1, method=\"TMM\")\n",
    "head(dgeFull1$samples)"
   ]
  },
  {
   "cell_type": "code",
   "execution_count": 139,
   "metadata": {
    "vscode": {
     "languageId": "r"
    }
   },
   "outputs": [
    {
     "data": {
      "text/html": [
       "<table class=\"dataframe\">\n",
       "<caption>A matrix: 6 × 42 of type dbl</caption>\n",
       "<thead>\n",
       "\t<tr><th></th><th scope=col>BM_pDCs_R1</th><th scope=col>BM_pDC_like_R1</th><th scope=col>Spl_pDCs_R1</th><th scope=col>Spl_pDC_like_R1</th><th scope=col>Spl_cDC1_R1</th><th scope=col>Spl_cDC2_R1</th><th scope=col>Thy_pDCs_R1</th><th scope=col>Thy_pDC_like_R1</th><th scope=col>Thy_cDC1_R1</th><th scope=col>Thy_cDC2_R1</th><th scope=col>⋯</th><th scope=col>Spl_cDC1_R3</th><th scope=col>Spl_cDC2_R3</th><th scope=col>Thy_pDCs_R3</th><th scope=col>Thy_pDC_like_R3</th><th scope=col>Thy_cDC1_R3</th><th scope=col>Thy_cDC2_R3</th><th scope=col>mLN_pDCs_R3</th><th scope=col>mLN_pDC_like_R3</th><th scope=col>mLN_cDC1_R3</th><th scope=col>mLN_cDC2_R3</th></tr>\n",
       "</thead>\n",
       "<tbody>\n",
       "\t<tr><th scope=row>Gm37338</th><td>0.0000000</td><td>0.0000000</td><td>0.000000</td><td>0.0000000</td><td>0.000000</td><td>0.000000</td><td>0.0000000</td><td>0.000000</td><td>0.000000</td><td>0.0000000</td><td>⋯</td><td>0.000000</td><td>0.000000</td><td>0.000000</td><td>0.000000</td><td>0.000000</td><td>0.000000</td><td>0.000000</td><td>0.0000000</td><td>0.000000</td><td>0.000000</td></tr>\n",
       "\t<tr><th scope=row>Hnf4g</th><td>0.0000000</td><td>0.0000000</td><td>0.000000</td><td>0.0000000</td><td>0.000000</td><td>0.000000</td><td>0.0000000</td><td>0.000000</td><td>0.000000</td><td>0.0000000</td><td>⋯</td><td>0.000000</td><td>0.000000</td><td>0.000000</td><td>0.000000</td><td>0.000000</td><td>0.000000</td><td>0.000000</td><td>0.0000000</td><td>0.000000</td><td>0.000000</td></tr>\n",
       "\t<tr><th scope=row>Gm37000</th><td>0.0000000</td><td>0.0000000</td><td>0.000000</td><td>0.0000000</td><td>0.000000</td><td>0.000000</td><td>0.0000000</td><td>0.000000</td><td>0.000000</td><td>0.0000000</td><td>⋯</td><td>0.000000</td><td>0.000000</td><td>0.000000</td><td>0.000000</td><td>0.000000</td><td>0.000000</td><td>0.000000</td><td>0.0000000</td><td>0.000000</td><td>0.000000</td></tr>\n",
       "\t<tr><th scope=row>Rps24.ps2</th><td>0.6137948</td><td>0.8778648</td><td>1.125529</td><td>0.6240567</td><td>1.083891</td><td>1.178238</td><td>0.7130474</td><td>1.037856</td><td>1.122312</td><td>0.9444426</td><td>⋯</td><td>2.458409</td><td>3.363980</td><td>1.497725</td><td>1.333266</td><td>2.095012</td><td>1.556962</td><td>1.217383</td><td>0.8834952</td><td>1.083223</td><td>1.618972</td></tr>\n",
       "\t<tr><th scope=row>Pou5f1.rs3</th><td>0.0000000</td><td>0.0000000</td><td>0.000000</td><td>0.0000000</td><td>0.000000</td><td>0.000000</td><td>0.0000000</td><td>0.000000</td><td>0.000000</td><td>0.0000000</td><td>⋯</td><td>0.000000</td><td>0.000000</td><td>0.000000</td><td>0.000000</td><td>0.000000</td><td>0.000000</td><td>0.000000</td><td>0.0000000</td><td>0.000000</td><td>0.000000</td></tr>\n",
       "\t<tr><th scope=row>Gm2077</th><td>4.0919657</td><td>2.9587296</td><td>4.139043</td><td>3.3629720</td><td>3.468450</td><td>4.134948</td><td>3.0304515</td><td>4.073584</td><td>3.612441</td><td>3.1315728</td><td>⋯</td><td>4.097348</td><td>7.568954</td><td>4.008617</td><td>3.259094</td><td>3.603421</td><td>3.645570</td><td>2.840559</td><td>3.7303132</td><td>3.114267</td><td>3.655743</td></tr>\n",
       "</tbody>\n",
       "</table>\n"
      ],
      "text/latex": [
       "A matrix: 6 × 42 of type dbl\n",
       "\\begin{tabular}{r|lllllllllllllllllllll}\n",
       "  & BM\\_pDCs\\_R1 & BM\\_pDC\\_like\\_R1 & Spl\\_pDCs\\_R1 & Spl\\_pDC\\_like\\_R1 & Spl\\_cDC1\\_R1 & Spl\\_cDC2\\_R1 & Thy\\_pDCs\\_R1 & Thy\\_pDC\\_like\\_R1 & Thy\\_cDC1\\_R1 & Thy\\_cDC2\\_R1 & ⋯ & Spl\\_cDC1\\_R3 & Spl\\_cDC2\\_R3 & Thy\\_pDCs\\_R3 & Thy\\_pDC\\_like\\_R3 & Thy\\_cDC1\\_R3 & Thy\\_cDC2\\_R3 & mLN\\_pDCs\\_R3 & mLN\\_pDC\\_like\\_R3 & mLN\\_cDC1\\_R3 & mLN\\_cDC2\\_R3\\\\\n",
       "\\hline\n",
       "\tGm37338 & 0.0000000 & 0.0000000 & 0.000000 & 0.0000000 & 0.000000 & 0.000000 & 0.0000000 & 0.000000 & 0.000000 & 0.0000000 & ⋯ & 0.000000 & 0.000000 & 0.000000 & 0.000000 & 0.000000 & 0.000000 & 0.000000 & 0.0000000 & 0.000000 & 0.000000\\\\\n",
       "\tHnf4g & 0.0000000 & 0.0000000 & 0.000000 & 0.0000000 & 0.000000 & 0.000000 & 0.0000000 & 0.000000 & 0.000000 & 0.0000000 & ⋯ & 0.000000 & 0.000000 & 0.000000 & 0.000000 & 0.000000 & 0.000000 & 0.000000 & 0.0000000 & 0.000000 & 0.000000\\\\\n",
       "\tGm37000 & 0.0000000 & 0.0000000 & 0.000000 & 0.0000000 & 0.000000 & 0.000000 & 0.0000000 & 0.000000 & 0.000000 & 0.0000000 & ⋯ & 0.000000 & 0.000000 & 0.000000 & 0.000000 & 0.000000 & 0.000000 & 0.000000 & 0.0000000 & 0.000000 & 0.000000\\\\\n",
       "\tRps24.ps2 & 0.6137948 & 0.8778648 & 1.125529 & 0.6240567 & 1.083891 & 1.178238 & 0.7130474 & 1.037856 & 1.122312 & 0.9444426 & ⋯ & 2.458409 & 3.363980 & 1.497725 & 1.333266 & 2.095012 & 1.556962 & 1.217383 & 0.8834952 & 1.083223 & 1.618972\\\\\n",
       "\tPou5f1.rs3 & 0.0000000 & 0.0000000 & 0.000000 & 0.0000000 & 0.000000 & 0.000000 & 0.0000000 & 0.000000 & 0.000000 & 0.0000000 & ⋯ & 0.000000 & 0.000000 & 0.000000 & 0.000000 & 0.000000 & 0.000000 & 0.000000 & 0.0000000 & 0.000000 & 0.000000\\\\\n",
       "\tGm2077 & 4.0919657 & 2.9587296 & 4.139043 & 3.3629720 & 3.468450 & 4.134948 & 3.0304515 & 4.073584 & 3.612441 & 3.1315728 & ⋯ & 4.097348 & 7.568954 & 4.008617 & 3.259094 & 3.603421 & 3.645570 & 2.840559 & 3.7303132 & 3.114267 & 3.655743\\\\\n",
       "\\end{tabular}\n"
      ],
      "text/markdown": [
       "\n",
       "A matrix: 6 × 42 of type dbl\n",
       "\n",
       "| <!--/--> | BM_pDCs_R1 | BM_pDC_like_R1 | Spl_pDCs_R1 | Spl_pDC_like_R1 | Spl_cDC1_R1 | Spl_cDC2_R1 | Thy_pDCs_R1 | Thy_pDC_like_R1 | Thy_cDC1_R1 | Thy_cDC2_R1 | ⋯ | Spl_cDC1_R3 | Spl_cDC2_R3 | Thy_pDCs_R3 | Thy_pDC_like_R3 | Thy_cDC1_R3 | Thy_cDC2_R3 | mLN_pDCs_R3 | mLN_pDC_like_R3 | mLN_cDC1_R3 | mLN_cDC2_R3 |\n",
       "|---|---|---|---|---|---|---|---|---|---|---|---|---|---|---|---|---|---|---|---|---|---|\n",
       "| Gm37338 | 0.0000000 | 0.0000000 | 0.000000 | 0.0000000 | 0.000000 | 0.000000 | 0.0000000 | 0.000000 | 0.000000 | 0.0000000 | ⋯ | 0.000000 | 0.000000 | 0.000000 | 0.000000 | 0.000000 | 0.000000 | 0.000000 | 0.0000000 | 0.000000 | 0.000000 |\n",
       "| Hnf4g | 0.0000000 | 0.0000000 | 0.000000 | 0.0000000 | 0.000000 | 0.000000 | 0.0000000 | 0.000000 | 0.000000 | 0.0000000 | ⋯ | 0.000000 | 0.000000 | 0.000000 | 0.000000 | 0.000000 | 0.000000 | 0.000000 | 0.0000000 | 0.000000 | 0.000000 |\n",
       "| Gm37000 | 0.0000000 | 0.0000000 | 0.000000 | 0.0000000 | 0.000000 | 0.000000 | 0.0000000 | 0.000000 | 0.000000 | 0.0000000 | ⋯ | 0.000000 | 0.000000 | 0.000000 | 0.000000 | 0.000000 | 0.000000 | 0.000000 | 0.0000000 | 0.000000 | 0.000000 |\n",
       "| Rps24.ps2 | 0.6137948 | 0.8778648 | 1.125529 | 0.6240567 | 1.083891 | 1.178238 | 0.7130474 | 1.037856 | 1.122312 | 0.9444426 | ⋯ | 2.458409 | 3.363980 | 1.497725 | 1.333266 | 2.095012 | 1.556962 | 1.217383 | 0.8834952 | 1.083223 | 1.618972 |\n",
       "| Pou5f1.rs3 | 0.0000000 | 0.0000000 | 0.000000 | 0.0000000 | 0.000000 | 0.000000 | 0.0000000 | 0.000000 | 0.000000 | 0.0000000 | ⋯ | 0.000000 | 0.000000 | 0.000000 | 0.000000 | 0.000000 | 0.000000 | 0.000000 | 0.0000000 | 0.000000 | 0.000000 |\n",
       "| Gm2077 | 4.0919657 | 2.9587296 | 4.139043 | 3.3629720 | 3.468450 | 4.134948 | 3.0304515 | 4.073584 | 3.612441 | 3.1315728 | ⋯ | 4.097348 | 7.568954 | 4.008617 | 3.259094 | 3.603421 | 3.645570 | 2.840559 | 3.7303132 | 3.114267 | 3.655743 |\n",
       "\n"
      ],
      "text/plain": [
       "           BM_pDCs_R1 BM_pDC_like_R1 Spl_pDCs_R1 Spl_pDC_like_R1 Spl_cDC1_R1\n",
       "Gm37338    0.0000000  0.0000000      0.000000    0.0000000       0.000000   \n",
       "Hnf4g      0.0000000  0.0000000      0.000000    0.0000000       0.000000   \n",
       "Gm37000    0.0000000  0.0000000      0.000000    0.0000000       0.000000   \n",
       "Rps24.ps2  0.6137948  0.8778648      1.125529    0.6240567       1.083891   \n",
       "Pou5f1.rs3 0.0000000  0.0000000      0.000000    0.0000000       0.000000   \n",
       "Gm2077     4.0919657  2.9587296      4.139043    3.3629720       3.468450   \n",
       "           Spl_cDC2_R1 Thy_pDCs_R1 Thy_pDC_like_R1 Thy_cDC1_R1 Thy_cDC2_R1 ⋯\n",
       "Gm37338    0.000000    0.0000000   0.000000        0.000000    0.0000000   ⋯\n",
       "Hnf4g      0.000000    0.0000000   0.000000        0.000000    0.0000000   ⋯\n",
       "Gm37000    0.000000    0.0000000   0.000000        0.000000    0.0000000   ⋯\n",
       "Rps24.ps2  1.178238    0.7130474   1.037856        1.122312    0.9444426   ⋯\n",
       "Pou5f1.rs3 0.000000    0.0000000   0.000000        0.000000    0.0000000   ⋯\n",
       "Gm2077     4.134948    3.0304515   4.073584        3.612441    3.1315728   ⋯\n",
       "           Spl_cDC1_R3 Spl_cDC2_R3 Thy_pDCs_R3 Thy_pDC_like_R3 Thy_cDC1_R3\n",
       "Gm37338    0.000000    0.000000    0.000000    0.000000        0.000000   \n",
       "Hnf4g      0.000000    0.000000    0.000000    0.000000        0.000000   \n",
       "Gm37000    0.000000    0.000000    0.000000    0.000000        0.000000   \n",
       "Rps24.ps2  2.458409    3.363980    1.497725    1.333266        2.095012   \n",
       "Pou5f1.rs3 0.000000    0.000000    0.000000    0.000000        0.000000   \n",
       "Gm2077     4.097348    7.568954    4.008617    3.259094        3.603421   \n",
       "           Thy_cDC2_R3 mLN_pDCs_R3 mLN_pDC_like_R3 mLN_cDC1_R3 mLN_cDC2_R3\n",
       "Gm37338    0.000000    0.000000    0.0000000       0.000000    0.000000   \n",
       "Hnf4g      0.000000    0.000000    0.0000000       0.000000    0.000000   \n",
       "Gm37000    0.000000    0.000000    0.0000000       0.000000    0.000000   \n",
       "Rps24.ps2  1.556962    1.217383    0.8834952       1.083223    1.618972   \n",
       "Pou5f1.rs3 0.000000    0.000000    0.0000000       0.000000    0.000000   \n",
       "Gm2077     3.645570    2.840559    3.7303132       3.114267    3.655743   "
      ]
     },
     "metadata": {},
     "output_type": "display_data"
    }
   ],
   "source": [
    "eff.lib.size0 <-  dgeFull1$samples$lib.size*dgeFull1$samples$norm.factors\n",
    "analysis <- data.frame(cpm(dgeFull1))\n",
    "colnames(analysis) <- sub(pattern = \"^X\", replacement = \"\", colnames(analysis))\n",
    "analysis <-as.matrix(analysis)\n",
    "head(analysis)"
   ]
  },
  {
   "cell_type": "markdown",
   "metadata": {},
   "source": [
    "## View normalized data\n"
   ]
  },
  {
   "cell_type": "code",
   "execution_count": 140,
   "metadata": {
    "vscode": {
     "languageId": "r"
    }
   },
   "outputs": [],
   "source": [
    "# Create a box plot\n",
    "counts_mat <- analysis\n",
    "box_plot <- ggplot(data = melt(counts_mat), aes(x = Var2, y = value)) +\n",
    "  geom_boxplot() +\n",
    "  labs(x = \"Samples\", y = \"Counts\") +\n",
    "  theme(axis.text.x = element_text(angle = 90, vjust = 0.5)) + # Rotate x-axis labels for better readability\n",
    "  ggtitle(\"Box Plot of Counts Matrix\")\n",
    "\n",
    "# Compute summary statistics\n",
    "summary_stats <- apply(counts_mat, 2, summary)\n",
    "formatted_summary <- t(round(summary_stats, 2)) "
   ]
  },
  {
   "cell_type": "code",
   "execution_count": 142,
   "metadata": {
    "vscode": {
     "languageId": "r"
    }
   },
   "outputs": [
    {
     "data": {
      "image/png": "[encoded data removed]",
      "text/plain": [
       "plot without title"
      ]
     },
     "metadata": {
      "image/png": {
       "height": 420,
       "width": 420
      }
     },
     "output_type": "display_data"
    }
   ],
   "source": [
    "box_plot"
   ]
  },
  {
   "cell_type": "code",
   "execution_count": 143,
   "metadata": {
    "vscode": {
     "languageId": "r"
    }
   },
   "outputs": [
    {
     "name": "stdout",
     "output_type": "stream",
     "text": [
      "[1] \"Summary Statistics:\"\n",
      "\n",
      "\n",
      "Table: Summary Statistics\n",
      "\n",
      "|                | Min. | 1st Qu. | Median | Mean  | 3rd Qu. |   Max.   |\n",
      "|:---------------|:----:|:-------:|:------:|:-----:|:-------:|:--------:|\n",
      "|BM_pDCs_R1      |  0   |    0    |  0.00  | 16.74 |  2.10   | 6604.18  |\n",
      "|BM_pDC_like_R1  |  0   |    0    |  0.00  | 17.38 |  2.21   | 12139.41 |\n",
      "|Spl_pDCs_R1     |  0   |    0    |  0.00  | 18.96 |  2.18   | 11201.96 |\n",
      "|Spl_pDC_like_R1 |  0   |    0    |  0.00  | 18.53 |  2.39   | 11541.79 |\n",
      "|Spl_cDC1_R1     |  0   |    0    |  0.00  | 21.88 |  2.30   | 34710.49 |\n",
      "|Spl_cDC2_R1     |  0   |    0    |  0.00  | 21.37 |  2.60   | 32613.91 |\n",
      "|Thy_pDCs_R1     |  0   |    0    |  0.00  | 19.26 |  2.14   | 11861.90 |\n",
      "|Thy_pDC_like_R1 |  0   |    0    |  0.00  | 19.13 |  2.44   | 15588.28 |\n",
      "|Thy_cDC1_R1     |  0   |    0    |  0.00  | 19.72 |  2.10   | 28173.21 |\n",
      "|Thy_cDC2_R1     |  0   |    0    |  0.00  | 19.72 |  2.83   | 31609.00 |\n",
      "|mLN_pDCs_R1     |  0   |    0    |  0.00  | 18.69 |  2.22   | 11674.33 |\n",
      "|mLN_pDC_like_R1 |  0   |    0    |  0.00  | 18.24 |  2.32   | 14192.33 |\n",
      "|mLN_cDC1_R1     |  0   |    0    |  0.00  | 20.86 |  2.51   | 26393.55 |\n",
      "|mLN_cDC2_R1     |  0   |    0    |  0.00  | 21.39 |  3.08   | 30864.44 |\n",
      "|BM_pDCs_R2      |  0   |    0    |  0.00  | 16.40 |  2.54   | 6581.44  |\n",
      "|BM_pDC_like_R2  |  0   |    0    |  0.00  | 16.58 |  2.30   | 9613.85  |\n",
      "|Spl_pDCs_R2     |  0   |    0    |  0.00  | 18.32 |  2.32   | 9840.53  |\n",
      "|Spl_pDC_like_R2 |  0   |    0    |  0.00  | 19.35 |  2.23   | 7550.49  |\n",
      "|Spl_cDC1_R2     |  0   |    0    |  0.00  | 25.72 |  1.99   | 62329.56 |\n",
      "|Spl_cDC2_R2     |  0   |    0    |  0.00  | 19.75 |  2.68   | 33654.90 |\n",
      "|Thy_pDCs_R2     |  0   |    0    |  0.00  | 18.71 |  2.29   | 8542.26  |\n",
      "|Thy_pDC_like_R2 |  0   |    0    |  0.00  | 18.33 |  2.42   | 11807.33 |\n",
      "|Thy_cDC1_R2     |  0   |    0    |  0.00  | 20.93 |  2.16   | 42930.51 |\n",
      "|Thy_cDC2_R2     |  0   |    0    |  0.00  | 19.29 |  2.95   | 34234.93 |\n",
      "|mLN_pDCs_R2     |  0   |    0    |  0.00  | 18.26 |  2.19   | 12299.43 |\n",
      "|mLN_pDC_like_R2 |  0   |    0    |  0.00  | 18.31 |  2.30   | 16180.28 |\n",
      "|mLN_cDC1_R2     |  0   |    0    |  0.00  | 19.81 |  2.46   | 27741.12 |\n",
      "|mLN_cDC2_R2     |  0   |    0    |  0.00  | 20.18 |  3.21   | 27403.60 |\n",
      "|BM_pDCs_R3      |  0   |    0    |  0.01  | 16.89 |  2.54   | 7617.23  |\n",
      "|BM_pDC_like_R3  |  0   |    0    |  0.00  | 17.29 |  2.37   | 9184.44  |\n",
      "|Spl_pDCs_R3     |  0   |    0    |  0.00  | 18.86 |  2.31   | 11295.88 |\n",
      "|Spl_pDC_like_R3 |  0   |    0    |  0.00  | 18.49 |  2.48   | 13072.37 |\n",
      "|Spl_cDC1_R3     |  0   |    0    |  0.00  | 20.05 |  2.19   | 32436.36 |\n",
      "|Spl_cDC2_R3     |  0   |    0    |  0.00  | 20.27 |  2.28   | 31629.46 |\n",
      "|Thy_pDCs_R3     |  0   |    0    |  0.00  | 19.26 |  2.20   | 9191.49  |\n",
      "|Thy_pDC_like_R3 |  0   |    0    |  0.00  | 18.42 |  2.48   | 12987.93 |\n",
      "|Thy_cDC1_R3     |  0   |    0    |  0.00  | 19.66 |  2.10   | 28471.59 |\n",
      "|Thy_cDC2_R3     |  0   |    0    |  0.00  | 19.49 |  2.77   | 36707.09 |\n",
      "|mLN_pDCs_R3     |  0   |    0    |  0.00  | 18.86 |  2.25   | 11689.98 |\n",
      "|mLN_pDC_like_R3 |  0   |    0    |  0.00  | 18.59 |  2.26   | 13732.51 |\n",
      "|mLN_cDC1_R3     |  0   |    0    |  0.00  | 19.70 |  2.39   | 24952.14 |\n",
      "|mLN_cDC2_R3     |  0   |    0    |  0.00  | 19.92 |  2.77   | 30861.99 |\n"
     ]
    }
   ],
   "source": [
    "print(\"Summary Statistics:\")\n",
    "print(knitr::kable(formatted_summary, caption = \"Summary Statistics\", align = \"c\"))"
   ]
  },
  {
   "cell_type": "markdown",
   "metadata": {},
   "source": [
    "## Make server files\n"
   ]
  },
  {
   "cell_type": "code",
   "execution_count": 144,
   "metadata": {
    "vscode": {
     "languageId": "r"
    }
   },
   "outputs": [
    {
     "data": {
      "text/html": [
       "<table class=\"dataframe\">\n",
       "<caption>A matrix: 6 × 42 of type dbl</caption>\n",
       "<thead>\n",
       "\t<tr><th></th><th scope=col>BM_pDCs_R1</th><th scope=col>BM_pDC_like_R1</th><th scope=col>Spl_pDCs_R1</th><th scope=col>Spl_pDC_like_R1</th><th scope=col>Spl_cDC1_R1</th><th scope=col>Spl_cDC2_R1</th><th scope=col>Thy_pDCs_R1</th><th scope=col>Thy_pDC_like_R1</th><th scope=col>Thy_cDC1_R1</th><th scope=col>Thy_cDC2_R1</th><th scope=col>⋯</th><th scope=col>Spl_cDC1_R3</th><th scope=col>Spl_cDC2_R3</th><th scope=col>Thy_pDCs_R3</th><th scope=col>Thy_pDC_like_R3</th><th scope=col>Thy_cDC1_R3</th><th scope=col>Thy_cDC2_R3</th><th scope=col>mLN_pDCs_R3</th><th scope=col>mLN_pDC_like_R3</th><th scope=col>mLN_cDC1_R3</th><th scope=col>mLN_cDC2_R3</th></tr>\n",
       "</thead>\n",
       "<tbody>\n",
       "\t<tr><th scope=row>Gm37338</th><td>0.0000000</td><td>0.0000000</td><td>0.000000</td><td>0.0000000</td><td>0.000000</td><td>0.000000</td><td>0.0000000</td><td>0.000000</td><td>0.000000</td><td>0.0000000</td><td>⋯</td><td>0.000000</td><td>0.000000</td><td>0.000000</td><td>0.000000</td><td>0.000000</td><td>0.000000</td><td>0.000000</td><td>0.0000000</td><td>0.000000</td><td>0.000000</td></tr>\n",
       "\t<tr><th scope=row>Hnf4g</th><td>0.0000000</td><td>0.0000000</td><td>0.000000</td><td>0.0000000</td><td>0.000000</td><td>0.000000</td><td>0.0000000</td><td>0.000000</td><td>0.000000</td><td>0.0000000</td><td>⋯</td><td>0.000000</td><td>0.000000</td><td>0.000000</td><td>0.000000</td><td>0.000000</td><td>0.000000</td><td>0.000000</td><td>0.0000000</td><td>0.000000</td><td>0.000000</td></tr>\n",
       "\t<tr><th scope=row>Gm37000</th><td>0.0000000</td><td>0.0000000</td><td>0.000000</td><td>0.0000000</td><td>0.000000</td><td>0.000000</td><td>0.0000000</td><td>0.000000</td><td>0.000000</td><td>0.0000000</td><td>⋯</td><td>0.000000</td><td>0.000000</td><td>0.000000</td><td>0.000000</td><td>0.000000</td><td>0.000000</td><td>0.000000</td><td>0.0000000</td><td>0.000000</td><td>0.000000</td></tr>\n",
       "\t<tr><th scope=row>Rps24.ps2</th><td>0.6137948</td><td>0.8778648</td><td>1.125529</td><td>0.6240567</td><td>1.083891</td><td>1.178238</td><td>0.7130474</td><td>1.037856</td><td>1.122312</td><td>0.9444426</td><td>⋯</td><td>2.458409</td><td>3.363980</td><td>1.497725</td><td>1.333266</td><td>2.095012</td><td>1.556962</td><td>1.217383</td><td>0.8834952</td><td>1.083223</td><td>1.618972</td></tr>\n",
       "\t<tr><th scope=row>Pou5f1.rs3</th><td>0.0000000</td><td>0.0000000</td><td>0.000000</td><td>0.0000000</td><td>0.000000</td><td>0.000000</td><td>0.0000000</td><td>0.000000</td><td>0.000000</td><td>0.0000000</td><td>⋯</td><td>0.000000</td><td>0.000000</td><td>0.000000</td><td>0.000000</td><td>0.000000</td><td>0.000000</td><td>0.000000</td><td>0.0000000</td><td>0.000000</td><td>0.000000</td></tr>\n",
       "\t<tr><th scope=row>Gm2077</th><td>4.0919657</td><td>2.9587296</td><td>4.139043</td><td>3.3629720</td><td>3.468450</td><td>4.134948</td><td>3.0304515</td><td>4.073584</td><td>3.612441</td><td>3.1315728</td><td>⋯</td><td>4.097348</td><td>7.568954</td><td>4.008617</td><td>3.259094</td><td>3.603421</td><td>3.645570</td><td>2.840559</td><td>3.7303132</td><td>3.114267</td><td>3.655743</td></tr>\n",
       "</tbody>\n",
       "</table>\n"
      ],
      "text/latex": [
       "A matrix: 6 × 42 of type dbl\n",
       "\\begin{tabular}{r|lllllllllllllllllllll}\n",
       "  & BM\\_pDCs\\_R1 & BM\\_pDC\\_like\\_R1 & Spl\\_pDCs\\_R1 & Spl\\_pDC\\_like\\_R1 & Spl\\_cDC1\\_R1 & Spl\\_cDC2\\_R1 & Thy\\_pDCs\\_R1 & Thy\\_pDC\\_like\\_R1 & Thy\\_cDC1\\_R1 & Thy\\_cDC2\\_R1 & ⋯ & Spl\\_cDC1\\_R3 & Spl\\_cDC2\\_R3 & Thy\\_pDCs\\_R3 & Thy\\_pDC\\_like\\_R3 & Thy\\_cDC1\\_R3 & Thy\\_cDC2\\_R3 & mLN\\_pDCs\\_R3 & mLN\\_pDC\\_like\\_R3 & mLN\\_cDC1\\_R3 & mLN\\_cDC2\\_R3\\\\\n",
       "\\hline\n",
       "\tGm37338 & 0.0000000 & 0.0000000 & 0.000000 & 0.0000000 & 0.000000 & 0.000000 & 0.0000000 & 0.000000 & 0.000000 & 0.0000000 & ⋯ & 0.000000 & 0.000000 & 0.000000 & 0.000000 & 0.000000 & 0.000000 & 0.000000 & 0.0000000 & 0.000000 & 0.000000\\\\\n",
       "\tHnf4g & 0.0000000 & 0.0000000 & 0.000000 & 0.0000000 & 0.000000 & 0.000000 & 0.0000000 & 0.000000 & 0.000000 & 0.0000000 & ⋯ & 0.000000 & 0.000000 & 0.000000 & 0.000000 & 0.000000 & 0.000000 & 0.000000 & 0.0000000 & 0.000000 & 0.000000\\\\\n",
       "\tGm37000 & 0.0000000 & 0.0000000 & 0.000000 & 0.0000000 & 0.000000 & 0.000000 & 0.0000000 & 0.000000 & 0.000000 & 0.0000000 & ⋯ & 0.000000 & 0.000000 & 0.000000 & 0.000000 & 0.000000 & 0.000000 & 0.000000 & 0.0000000 & 0.000000 & 0.000000\\\\\n",
       "\tRps24.ps2 & 0.6137948 & 0.8778648 & 1.125529 & 0.6240567 & 1.083891 & 1.178238 & 0.7130474 & 1.037856 & 1.122312 & 0.9444426 & ⋯ & 2.458409 & 3.363980 & 1.497725 & 1.333266 & 2.095012 & 1.556962 & 1.217383 & 0.8834952 & 1.083223 & 1.618972\\\\\n",
       "\tPou5f1.rs3 & 0.0000000 & 0.0000000 & 0.000000 & 0.0000000 & 0.000000 & 0.000000 & 0.0000000 & 0.000000 & 0.000000 & 0.0000000 & ⋯ & 0.000000 & 0.000000 & 0.000000 & 0.000000 & 0.000000 & 0.000000 & 0.000000 & 0.0000000 & 0.000000 & 0.000000\\\\\n",
       "\tGm2077 & 4.0919657 & 2.9587296 & 4.139043 & 3.3629720 & 3.468450 & 4.134948 & 3.0304515 & 4.073584 & 3.612441 & 3.1315728 & ⋯ & 4.097348 & 7.568954 & 4.008617 & 3.259094 & 3.603421 & 3.645570 & 2.840559 & 3.7303132 & 3.114267 & 3.655743\\\\\n",
       "\\end{tabular}\n"
      ],
      "text/markdown": [
       "\n",
       "A matrix: 6 × 42 of type dbl\n",
       "\n",
       "| <!--/--> | BM_pDCs_R1 | BM_pDC_like_R1 | Spl_pDCs_R1 | Spl_pDC_like_R1 | Spl_cDC1_R1 | Spl_cDC2_R1 | Thy_pDCs_R1 | Thy_pDC_like_R1 | Thy_cDC1_R1 | Thy_cDC2_R1 | ⋯ | Spl_cDC1_R3 | Spl_cDC2_R3 | Thy_pDCs_R3 | Thy_pDC_like_R3 | Thy_cDC1_R3 | Thy_cDC2_R3 | mLN_pDCs_R3 | mLN_pDC_like_R3 | mLN_cDC1_R3 | mLN_cDC2_R3 |\n",
       "|---|---|---|---|---|---|---|---|---|---|---|---|---|---|---|---|---|---|---|---|---|---|\n",
       "| Gm37338 | 0.0000000 | 0.0000000 | 0.000000 | 0.0000000 | 0.000000 | 0.000000 | 0.0000000 | 0.000000 | 0.000000 | 0.0000000 | ⋯ | 0.000000 | 0.000000 | 0.000000 | 0.000000 | 0.000000 | 0.000000 | 0.000000 | 0.0000000 | 0.000000 | 0.000000 |\n",
       "| Hnf4g | 0.0000000 | 0.0000000 | 0.000000 | 0.0000000 | 0.000000 | 0.000000 | 0.0000000 | 0.000000 | 0.000000 | 0.0000000 | ⋯ | 0.000000 | 0.000000 | 0.000000 | 0.000000 | 0.000000 | 0.000000 | 0.000000 | 0.0000000 | 0.000000 | 0.000000 |\n",
       "| Gm37000 | 0.0000000 | 0.0000000 | 0.000000 | 0.0000000 | 0.000000 | 0.000000 | 0.0000000 | 0.000000 | 0.000000 | 0.0000000 | ⋯ | 0.000000 | 0.000000 | 0.000000 | 0.000000 | 0.000000 | 0.000000 | 0.000000 | 0.0000000 | 0.000000 | 0.000000 |\n",
       "| Rps24.ps2 | 0.6137948 | 0.8778648 | 1.125529 | 0.6240567 | 1.083891 | 1.178238 | 0.7130474 | 1.037856 | 1.122312 | 0.9444426 | ⋯ | 2.458409 | 3.363980 | 1.497725 | 1.333266 | 2.095012 | 1.556962 | 1.217383 | 0.8834952 | 1.083223 | 1.618972 |\n",
       "| Pou5f1.rs3 | 0.0000000 | 0.0000000 | 0.000000 | 0.0000000 | 0.000000 | 0.000000 | 0.0000000 | 0.000000 | 0.000000 | 0.0000000 | ⋯ | 0.000000 | 0.000000 | 0.000000 | 0.000000 | 0.000000 | 0.000000 | 0.000000 | 0.0000000 | 0.000000 | 0.000000 |\n",
       "| Gm2077 | 4.0919657 | 2.9587296 | 4.139043 | 3.3629720 | 3.468450 | 4.134948 | 3.0304515 | 4.073584 | 3.612441 | 3.1315728 | ⋯ | 4.097348 | 7.568954 | 4.008617 | 3.259094 | 3.603421 | 3.645570 | 2.840559 | 3.7303132 | 3.114267 | 3.655743 |\n",
       "\n"
      ],
      "text/plain": [
       "           BM_pDCs_R1 BM_pDC_like_R1 Spl_pDCs_R1 Spl_pDC_like_R1 Spl_cDC1_R1\n",
       "Gm37338    0.0000000  0.0000000      0.000000    0.0000000       0.000000   \n",
       "Hnf4g      0.0000000  0.0000000      0.000000    0.0000000       0.000000   \n",
       "Gm37000    0.0000000  0.0000000      0.000000    0.0000000       0.000000   \n",
       "Rps24.ps2  0.6137948  0.8778648      1.125529    0.6240567       1.083891   \n",
       "Pou5f1.rs3 0.0000000  0.0000000      0.000000    0.0000000       0.000000   \n",
       "Gm2077     4.0919657  2.9587296      4.139043    3.3629720       3.468450   \n",
       "           Spl_cDC2_R1 Thy_pDCs_R1 Thy_pDC_like_R1 Thy_cDC1_R1 Thy_cDC2_R1 ⋯\n",
       "Gm37338    0.000000    0.0000000   0.000000        0.000000    0.0000000   ⋯\n",
       "Hnf4g      0.000000    0.0000000   0.000000        0.000000    0.0000000   ⋯\n",
       "Gm37000    0.000000    0.0000000   0.000000        0.000000    0.0000000   ⋯\n",
       "Rps24.ps2  1.178238    0.7130474   1.037856        1.122312    0.9444426   ⋯\n",
       "Pou5f1.rs3 0.000000    0.0000000   0.000000        0.000000    0.0000000   ⋯\n",
       "Gm2077     4.134948    3.0304515   4.073584        3.612441    3.1315728   ⋯\n",
       "           Spl_cDC1_R3 Spl_cDC2_R3 Thy_pDCs_R3 Thy_pDC_like_R3 Thy_cDC1_R3\n",
       "Gm37338    0.000000    0.000000    0.000000    0.000000        0.000000   \n",
       "Hnf4g      0.000000    0.000000    0.000000    0.000000        0.000000   \n",
       "Gm37000    0.000000    0.000000    0.000000    0.000000        0.000000   \n",
       "Rps24.ps2  2.458409    3.363980    1.497725    1.333266        2.095012   \n",
       "Pou5f1.rs3 0.000000    0.000000    0.000000    0.000000        0.000000   \n",
       "Gm2077     4.097348    7.568954    4.008617    3.259094        3.603421   \n",
       "           Thy_cDC2_R3 mLN_pDCs_R3 mLN_pDC_like_R3 mLN_cDC1_R3 mLN_cDC2_R3\n",
       "Gm37338    0.000000    0.000000    0.0000000       0.000000    0.000000   \n",
       "Hnf4g      0.000000    0.000000    0.0000000       0.000000    0.000000   \n",
       "Gm37000    0.000000    0.000000    0.0000000       0.000000    0.000000   \n",
       "Rps24.ps2  1.556962    1.217383    0.8834952       1.083223    1.618972   \n",
       "Pou5f1.rs3 0.000000    0.000000    0.0000000       0.000000    0.000000   \n",
       "Gm2077     3.645570    2.840559    3.7303132       3.114267    3.655743   "
      ]
     },
     "metadata": {},
     "output_type": "display_data"
    }
   ],
   "source": [
    "head(analysis)"
   ]
  },
  {
   "cell_type": "code",
   "execution_count": 146,
   "metadata": {
    "vscode": {
     "languageId": "r"
    }
   },
   "outputs": [
    {
     "data": {
      "text/html": [
       "<table class=\"dataframe\">\n",
       "<caption>A data.frame: 6 × 3</caption>\n",
       "<thead>\n",
       "\t<tr><th></th><th scope=col>Sample</th><th scope=col>Tissue</th><th scope=col>CellType</th></tr>\n",
       "\t<tr><th></th><th scope=col>&lt;chr&gt;</th><th scope=col>&lt;chr&gt;</th><th scope=col>&lt;chr&gt;</th></tr>\n",
       "</thead>\n",
       "<tbody>\n",
       "\t<tr><th scope=row>1</th><td>BM_pDCs_R1     </td><td>Bone Marrow</td><td>pDCs    </td></tr>\n",
       "\t<tr><th scope=row>2</th><td>BM_pDC_like_R1 </td><td>Bone Marrow</td><td>pDC-like</td></tr>\n",
       "\t<tr><th scope=row>3</th><td>Spl_pDCs_R1    </td><td>Spleen     </td><td>pDCs    </td></tr>\n",
       "\t<tr><th scope=row>4</th><td>Spl_pDC_like_R1</td><td>Spleen     </td><td>pDC-like</td></tr>\n",
       "\t<tr><th scope=row>5</th><td>Spl_cDC1_R1    </td><td>Spleen     </td><td>cDC1    </td></tr>\n",
       "\t<tr><th scope=row>6</th><td>Spl_cDC2_R1    </td><td>Spleen     </td><td>cDC2    </td></tr>\n",
       "</tbody>\n",
       "</table>\n"
      ],
      "text/latex": [
       "A data.frame: 6 × 3\n",
       "\\begin{tabular}{r|lll}\n",
       "  & Sample & Tissue & CellType\\\\\n",
       "  & <chr> & <chr> & <chr>\\\\\n",
       "\\hline\n",
       "\t1 & BM\\_pDCs\\_R1      & Bone Marrow & pDCs    \\\\\n",
       "\t2 & BM\\_pDC\\_like\\_R1  & Bone Marrow & pDC-like\\\\\n",
       "\t3 & Spl\\_pDCs\\_R1     & Spleen      & pDCs    \\\\\n",
       "\t4 & Spl\\_pDC\\_like\\_R1 & Spleen      & pDC-like\\\\\n",
       "\t5 & Spl\\_cDC1\\_R1     & Spleen      & cDC1    \\\\\n",
       "\t6 & Spl\\_cDC2\\_R1     & Spleen      & cDC2    \\\\\n",
       "\\end{tabular}\n"
      ],
      "text/markdown": [
       "\n",
       "A data.frame: 6 × 3\n",
       "\n",
       "| <!--/--> | Sample &lt;chr&gt; | Tissue &lt;chr&gt; | CellType &lt;chr&gt; |\n",
       "|---|---|---|---|\n",
       "| 1 | BM_pDCs_R1      | Bone Marrow | pDCs     |\n",
       "| 2 | BM_pDC_like_R1  | Bone Marrow | pDC-like |\n",
       "| 3 | Spl_pDCs_R1     | Spleen      | pDCs     |\n",
       "| 4 | Spl_pDC_like_R1 | Spleen      | pDC-like |\n",
       "| 5 | Spl_cDC1_R1     | Spleen      | cDC1     |\n",
       "| 6 | Spl_cDC2_R1     | Spleen      | cDC2     |\n",
       "\n"
      ],
      "text/plain": [
       "  Sample          Tissue      CellType\n",
       "1 BM_pDCs_R1      Bone Marrow pDCs    \n",
       "2 BM_pDC_like_R1  Bone Marrow pDC-like\n",
       "3 Spl_pDCs_R1     Spleen      pDCs    \n",
       "4 Spl_pDC_like_R1 Spleen      pDC-like\n",
       "5 Spl_cDC1_R1     Spleen      cDC1    \n",
       "6 Spl_cDC2_R1     Spleen      cDC2    "
      ]
     },
     "metadata": {},
     "output_type": "display_data"
    }
   ],
   "source": [
    "head(metadata)"
   ]
  },
  {
   "cell_type": "code",
   "execution_count": 148,
   "metadata": {
    "vscode": {
     "languageId": "r"
    }
   },
   "outputs": [
    {
     "data": {
      "text/html": [
       "<table class=\"dataframe\">\n",
       "<caption>A data.frame: 6 × 3</caption>\n",
       "<thead>\n",
       "\t<tr><th></th><th scope=col>Sample</th><th scope=col>Condition</th><th scope=col>CellType</th></tr>\n",
       "\t<tr><th></th><th scope=col>&lt;chr&gt;</th><th scope=col>&lt;chr&gt;</th><th scope=col>&lt;chr&gt;</th></tr>\n",
       "</thead>\n",
       "<tbody>\n",
       "\t<tr><th scope=row>1</th><td>BM_pDCs_R1     </td><td>Bone Marrow</td><td>pDCs    </td></tr>\n",
       "\t<tr><th scope=row>2</th><td>BM_pDC_like_R1 </td><td>Bone Marrow</td><td>pDC-like</td></tr>\n",
       "\t<tr><th scope=row>3</th><td>Spl_pDCs_R1    </td><td>Spleen     </td><td>pDCs    </td></tr>\n",
       "\t<tr><th scope=row>4</th><td>Spl_pDC_like_R1</td><td>Spleen     </td><td>pDC-like</td></tr>\n",
       "\t<tr><th scope=row>5</th><td>Spl_cDC1_R1    </td><td>Spleen     </td><td>cDC1    </td></tr>\n",
       "\t<tr><th scope=row>6</th><td>Spl_cDC2_R1    </td><td>Spleen     </td><td>cDC2    </td></tr>\n",
       "</tbody>\n",
       "</table>\n"
      ],
      "text/latex": [
       "A data.frame: 6 × 3\n",
       "\\begin{tabular}{r|lll}\n",
       "  & Sample & Condition & CellType\\\\\n",
       "  & <chr> & <chr> & <chr>\\\\\n",
       "\\hline\n",
       "\t1 & BM\\_pDCs\\_R1      & Bone Marrow & pDCs    \\\\\n",
       "\t2 & BM\\_pDC\\_like\\_R1  & Bone Marrow & pDC-like\\\\\n",
       "\t3 & Spl\\_pDCs\\_R1     & Spleen      & pDCs    \\\\\n",
       "\t4 & Spl\\_pDC\\_like\\_R1 & Spleen      & pDC-like\\\\\n",
       "\t5 & Spl\\_cDC1\\_R1     & Spleen      & cDC1    \\\\\n",
       "\t6 & Spl\\_cDC2\\_R1     & Spleen      & cDC2    \\\\\n",
       "\\end{tabular}\n"
      ],
      "text/markdown": [
       "\n",
       "A data.frame: 6 × 3\n",
       "\n",
       "| <!--/--> | Sample &lt;chr&gt; | Condition &lt;chr&gt; | CellType &lt;chr&gt; |\n",
       "|---|---|---|---|\n",
       "| 1 | BM_pDCs_R1      | Bone Marrow | pDCs     |\n",
       "| 2 | BM_pDC_like_R1  | Bone Marrow | pDC-like |\n",
       "| 3 | Spl_pDCs_R1     | Spleen      | pDCs     |\n",
       "| 4 | Spl_pDC_like_R1 | Spleen      | pDC-like |\n",
       "| 5 | Spl_cDC1_R1     | Spleen      | cDC1     |\n",
       "| 6 | Spl_cDC2_R1     | Spleen      | cDC2     |\n",
       "\n"
      ],
      "text/plain": [
       "  Sample          Condition   CellType\n",
       "1 BM_pDCs_R1      Bone Marrow pDCs    \n",
       "2 BM_pDC_like_R1  Bone Marrow pDC-like\n",
       "3 Spl_pDCs_R1     Spleen      pDCs    \n",
       "4 Spl_pDC_like_R1 Spleen      pDC-like\n",
       "5 Spl_cDC1_R1     Spleen      cDC1    \n",
       "6 Spl_cDC2_R1     Spleen      cDC2    "
      ]
     },
     "metadata": {},
     "output_type": "display_data"
    }
   ],
   "source": [
    "phen <- metadata %>%\n",
    "    rename(\n",
    "        Condition = Tissue\n",
    "        )\n",
    "head(phen)"
   ]
  },
  {
   "cell_type": "code",
   "execution_count": 149,
   "metadata": {
    "vscode": {
     "languageId": "r"
    }
   },
   "outputs": [
    {
     "data": {
      "text/html": [
       "<style>\n",
       ".list-inline {list-style: none; margin:0; padding: 0}\n",
       ".list-inline>li {display: inline-block}\n",
       ".list-inline>li:not(:last-child)::after {content: \"\\00b7\"; padding: 0 .5ex}\n",
       "</style>\n",
       "<ol class=list-inline><li>'Bone Marrow'</li><li>'Spleen'</li><li>'Thymus'</li><li>'mesenteric Lymph Nodes'</li></ol>\n"
      ],
      "text/latex": [
       "\\begin{enumerate*}\n",
       "\\item 'Bone Marrow'\n",
       "\\item 'Spleen'\n",
       "\\item 'Thymus'\n",
       "\\item 'mesenteric Lymph Nodes'\n",
       "\\end{enumerate*}\n"
      ],
      "text/markdown": [
       "1. 'Bone Marrow'\n",
       "2. 'Spleen'\n",
       "3. 'Thymus'\n",
       "4. 'mesenteric Lymph Nodes'\n",
       "\n",
       "\n"
      ],
      "text/plain": [
       "[1] \"Bone Marrow\"            \"Spleen\"                 \"Thymus\"                \n",
       "[4] \"mesenteric Lymph Nodes\""
      ]
     },
     "metadata": {},
     "output_type": "display_data"
    }
   ],
   "source": [
    "unique(phen$Condition)"
   ]
  },
  {
   "cell_type": "code",
   "execution_count": 151,
   "metadata": {
    "vscode": {
     "languageId": "r"
    }
   },
   "outputs": [],
   "source": [
    "saveRDS(analysis, file = file.path(\"BM_SP_TH_LN_RNAseq_GSE223100\", \"expression.rds\"))\n",
    "saveRDS(phen, file = file.path(\"BM_SP_TH_LN_RNAseq_GSE223100\", \"metadata.rds\"))"
   ]
  }
 ],
 "metadata": {
  "kernelspec": {
   "display_name": "R",
   "language": "R",
   "name": "ir"
  },
  "language_info": {
   "codemirror_mode": "r",
   "file_extension": ".r",
   "mimetype": "text/x-r-source",
   "name": "R",
   "pygments_lexer": "r",
   "version": "4.3.3"
  }
 },
 "nbformat": 4,
 "nbformat_minor": 2
}
